{
  "nbformat": 4,
  "nbformat_minor": 0,
  "metadata": {
    "colab": {
      "provenance": []
    },
    "kernelspec": {
      "name": "python3",
      "display_name": "Python 3"
    },
    "language_info": {
      "name": "python"
    }
  },
  "cells": [
    {
      "cell_type": "code",
      "execution_count": 17,
      "metadata": {
        "colab": {
          "base_uri": "https://localhost:8080/"
        },
        "id": "mDQu2UjOFJuJ",
        "outputId": "169482fc-65cb-47c3-d65e-1a5c48b8c391"
      },
      "outputs": [
        {
          "output_type": "stream",
          "name": "stdout",
          "text": [
            "First 5 source nodes (src): [544, 1201, 688, 357, 544]\n",
            "First 5 destination nodes (dst): [544, 1201, 688, 357, 544]\n",
            "First 5 timestamps (ts_list): [0.0, 0.000868, 0.001212, 0.001452, 0.001782]\n",
            "First 5 feature vectors (x_feats):\n",
            "  tensor([0., 0., 1.])\n",
            "  tensor([8.6800e-04, 0.0000e+00, 1.0000e+00])\n",
            "  tensor([3.4400e-04, 1.0000e+00, 0.0000e+00])\n",
            "  tensor([2.4000e-04, 0.0000e+00, 1.0000e+00])\n",
            "  tensor([3.3000e-04, 0.0000e+00, 1.0000e+00])\n"
          ]
        }
      ],
      "source": [
        "import pandas as pd\n",
        "import torch\n",
        "\n",
        "# 1. Parse RAW CAN log into DataFrame\n",
        "entries = []\n",
        "with open('/content/drive/MyDrive/abc.txt', 'r') as f:\n",
        "    for line in f:\n",
        "        parts = line.strip().split()\n",
        "        if len(parts) < 10:\n",
        "            continue\n",
        "        ts      = float(parts[1])\n",
        "        node_id = int(parts[3], 16)\n",
        "        dlc     = int(parts[parts.index('DLC:') + 1])\n",
        "        entries.append((ts, node_id, dlc))\n",
        "\n",
        "df = pd.DataFrame(entries, columns=['ts','src','dlc'])\n",
        "df.sort_values('ts', inplace=True)\n",
        "df['dt'] = df['ts'].diff().fillna(0.0)\n",
        "\n",
        "# 2. Feature Engineering: dt + one-hot DLC\n",
        "one_hot = pd.get_dummies(df['dlc'], prefix='dlc').astype('float32')\n",
        "features = pd.concat([df[['dt']], one_hot], axis=1).values.astype('float32')\n",
        "\n",
        "# 3. Build the four lists (plus placeholder labels if needed)\n",
        "src     = df['src'].tolist()                                    # source node IDs\n",
        "dst     = src                                                   # destination (self‑edges)\n",
        "ts_list = df['ts'].tolist()                                     # timestamps\n",
        "x_feats = [torch.tensor(f, dtype=torch.float32) for f in features]  # feature vectors\n",
        "y       = [0] * len(df)                                         # placeholder labels\n",
        "\n",
        "# 4. Print the first few entries of each list\n",
        "print(\"First 5 source nodes (src):\", src[:5])\n",
        "print(\"First 5 destination nodes (dst):\", dst[:5])\n",
        "print(\"First 5 timestamps (ts_list):\", ts_list[:5])\n",
        "print(\"First 5 feature vectors (x_feats):\")\n",
        "for vec in x_feats[:5]:\n",
        "    print(\" \", vec)\n"
      ]
    }
  ]
}